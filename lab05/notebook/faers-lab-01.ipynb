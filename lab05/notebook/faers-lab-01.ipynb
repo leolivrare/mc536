{
 "cells": [
  {
   "cell_type": "code",
   "execution_count": 1,
   "metadata": {},
   "outputs": [],
   "source": [
    "%defaultDatasource jdbc:h2:mem:db"
   ]
  },
  {
   "cell_type": "code",
   "execution_count": 2,
   "metadata": {},
   "outputs": [],
   "source": [
    "DROP TABLE IF EXISTS Drug;\n",
    "DROP TABLE IF EXISTS Pathology;\n",
    "DROP TABLE IF EXISTS DrugUse;\n",
    "\n",
    "CREATE TABLE Drug (\n",
    "  code INT NOT NULL,\n",
    "  name VARCHAR(200) NOT NULL,\n",
    "  PRIMARY KEY(code)\n",
    ") AS SELECT\n",
    "    code,\n",
    "    name\n",
    "FROM CSVREAD('../../../data/faers-2017/drug.csv');\n",
    "\n",
    "CREATE TABLE Pathology (\n",
    "  code INT NOT NULL,\n",
    "  name VARCHAR(200) NOT NULL,\n",
    "  PRIMARY KEY(code)\n",
    ") AS SELECT\n",
    "    code,\n",
    "    name\n",
    "FROM CSVREAD('../../../data/faers-2017/pathology.csv');\n",
    "\n",
    "CREATE TABLE DrugUse (\n",
    "  idPerson INT NOT NULL,\n",
    "  codePathology INT NOT NULL,\n",
    "  codeDrug INT NOT NULL,\n",
    "  FOREIGN KEY(codePathology)\n",
    "    REFERENCES Pathology(code)\n",
    "      ON DELETE NO ACTION\n",
    "      ON UPDATE NO ACTION,\n",
    "  FOREIGN KEY(codeDrug)\n",
    "    REFERENCES Drug(code)\n",
    "      ON DELETE NO ACTION\n",
    "      ON UPDATE NO ACTION,\n",
    ") AS SELECT\n",
    "    idPerson,\n",
    "    codePathology,\n",
    "    codeDrug\n",
    "FROM CSVREAD('../../../data/faers-2017/drug-use.csv');\n",
    "\n",
    "CREATE TABLE SideEffect(\n",
    "  idPerson INT NOT NULL,\n",
    "  codePathology INT NOT NULL,\n",
    "  FOREIGN KEY(codePathology)\n",
    "    REFERENCES Pathology(code)\n",
    "      ON DELETE NO ACTION\n",
    "      ON UPDATE NO ACTION\n",
    ") AS SELECT idPerson, codePathology\n",
    "FROM CSVREAD('../../../data/faers-2017/sideeffect.csv');"
   ]
  },
  {
   "cell_type": "code",
   "execution_count": 3,
   "metadata": {},
   "outputs": [
    {
     "data": {
      "application/vnd.jupyter.widget-view+json": {
       "model_id": "3e227f79-f87e-4c06-8ae3-ce476b646746",
       "version_major": 2,
       "version_minor": 0
      },
      "method": "display_data"
     },
     "metadata": {},
     "output_type": "display_data"
    },
    {
     "data": {
      "application/vnd.jupyter.widget-view+json": {
       "model_id": "5df8e7f7-7848-4838-ac8d-6eee2171f1c7",
       "version_major": 2,
       "version_minor": 0
      },
      "method": "display_data"
     },
     "metadata": {},
     "output_type": "display_data"
    },
    {
     "data": {
      "application/vnd.jupyter.widget-view+json": {
       "model_id": "6862900e-569a-45be-b5e1-aefcd00cb14d",
       "version_major": 2,
       "version_minor": 0
      },
      "method": "display_data"
     },
     "metadata": {},
     "output_type": "display_data"
    },
    {
     "data": {
      "application/vnd.jupyter.widget-view+json": {
       "model_id": "aeac2a9f-b9e6-4f6a-8c90-e062133e5f8d",
       "version_major": 2,
       "version_minor": 0
      },
      "method": "display_data"
     },
     "metadata": {},
     "output_type": "display_data"
    }
   ],
   "source": [
    "SELECT * FROM Drug;\n",
    "SELECT * FROM Pathology;\n",
    "SELECT * FROM DrugUse;\n",
    "SELECT * FROM SideEffect;"
   ]
  },
  {
   "cell_type": "markdown",
   "metadata": {},
   "source": [
    "# FDA Adverse Event Reporting System (FAERS)\n",
    "\n",
    "Considere a base de dados que reúne relatos de efeitos adversos de drogas: [FDA Adverse Event Reporting System (FAERS)](https://open.fda.gov/data/faers/).\n",
    "\n",
    "As fontes de dados são publicadas e documentadas em: [Latest Quarterly Data Files](https://www.fda.gov/drugs/fda-adverse-event-reporting-system-faers/fda-adverse-event-reporting-system-faers-latest-quarterly-data-files)"
   ]
  },
  {
   "cell_type": "markdown",
   "metadata": {},
   "source": [
    "# Interação entre medicamentos\n",
    "Considere como uma interação toda vez que um medicamento A é tomado em conjunto com um medicamento B por uma pessoa. Crie uma consulta que retorne para cada par de medicamento A,B o número de interações, somente para aqueles medicamentos que são tomados em conjunto mais de 30 vezes (passaremos a chamar de **grupo mais 30**)."
   ]
  },
  {
   "cell_type": "code",
   "execution_count": 13,
   "metadata": {},
   "outputs": [
    {
     "data": {
      "application/vnd.jupyter.widget-view+json": {
       "model_id": "fa1edf6a-c64e-4632-9441-7ff4106cf34c",
       "version_major": 2,
       "version_minor": 0
      },
      "method": "display_data"
     },
     "metadata": {},
     "output_type": "display_data"
    }
   ],
   "source": [
    "drop view if exists drugPair;\n",
    "\n",
    "create view DrugPair as (\n",
    "    select\n",
    "        drugA.codeDrug as drugA,\n",
    "        drugB.codeDrug as drugB,\n",
    "        count(*) as number_of_people\n",
    "    from drugUse as drugA\n",
    "    inner join \n",
    "        drugUse as drugB on drugB.idPerson = drugA.idPerson\n",
    "    where drugA.codeDrug < drugB.codeDrug\n",
    "    group by drugA, drugB\n",
    "    having count(*) > 30\n",
    ");\n",
    "\n",
    "select * from DrugPair"
   ]
  },
  {
   "cell_type": "markdown",
   "metadata": {},
   "source": [
    "## Tabela Resultante\n",
    "\n",
    "Se estiver demorando muito para gerar a tabela, você poderá usar a seguinte tabela resultante pronta. Essa tabela tem todas as interações, você ainda precisará filtrar o **grupo mais 30**."
   ]
  },
  {
   "cell_type": "code",
   "execution_count": 47,
   "metadata": {},
   "outputs": [
    {
     "data": {
      "application/vnd.jupyter.widget-view+json": {
       "model_id": "f5ea4c43-e5ef-4c11-8bb7-1c2769d14aa8",
       "version_major": 2,
       "version_minor": 0
      },
      "method": "display_data"
     },
     "metadata": {},
     "output_type": "display_data"
    }
   ],
   "source": [
    "drop view if exists drugPair30Mais;\n",
    "drop table if exists DrugInteraction;\n",
    "\n",
    "CREATE TABLE DrugInteraction (\n",
    "  druga INT NOT NULL,\n",
    "  drugb INT NOT NULL,\n",
    "  weight INT NOT NULL,\n",
    "  PRIMARY KEY(druga, drugb)\n",
    ") AS SELECT\n",
    "    druga,\n",
    "    drugb,\n",
    "    weight\n",
    "FROM CSVREAD('../../../data/faers-2017/results/drug-interaction.csv');\n",
    "\n",
    "create view drugPair30Mais as (SELECT\n",
    "    *\n",
    "FROM DrugInteraction\n",
    "where weight > 30);\n",
    "select * from drugPair30Mais"
   ]
  },
  {
   "cell_type": "markdown",
   "metadata": {},
   "source": [
    "# Suporte\n",
    "\n",
    "### Qual o suporte que cada uma das associações tem?\n",
    "\n",
    "Gere uma consulta que apresente o suporte do **grupo mais 30**. Ordene o resultado por ordem de suporte. \n",
    "\n",
    "Observação: Para que o resultado da divisão seja fracionária, converta o numerador em `DOUBLE` usando:\n",
    "~~~sql\n",
    "CAST(campo AS DOUBLE)\n",
    "~~~"
   ]
  },
  {
   "cell_type": "code",
   "execution_count": 51,
   "metadata": {
    "scrolled": true
   },
   "outputs": [
    {
     "data": {
      "application/vnd.jupyter.widget-view+json": {
       "model_id": "dac9e2cd-aea4-4b55-9818-5460ef3a7905",
       "version_major": 2,
       "version_minor": 0
      },
      "method": "display_data"
     },
     "metadata": {},
     "output_type": "display_data"
    }
   ],
   "source": [
    "drop view if exists suportPair;\n",
    "\n",
    "create view suportPair as (select\n",
    "    d.*,\n",
    "    d.weight::double / (select count(*) from DrugInteraction) as suporte\n",
    "from drugPair30Mais as d\n",
    "order by suporte desc\n",
    ");\n",
    "\n",
    "select * from suportPair"
   ]
  },
  {
   "cell_type": "markdown",
   "metadata": {},
   "source": [
    "# Confiança\n",
    "\n",
    "### Qual a confiança que cada uma das associações tem?\n",
    "\n",
    "Gere uma consulta que apresente a confiança do **grupo mais 30**. Ordene o resultado por ordem de confiança."
   ]
  },
  {
   "cell_type": "code",
   "execution_count": 78,
   "metadata": {},
   "outputs": [
    {
     "data": {
      "application/vnd.jupyter.widget-view+json": {
       "model_id": "7b1ed9e6-dec6-41aa-a8d2-4cf60e37b919",
       "version_major": 2,
       "version_minor": 0
      },
      "method": "display_data"
     },
     "metadata": {},
     "output_type": "display_data"
    }
   ],
   "source": [
    "drop view if exists confianca;\n",
    "drop view if exists drugOccurency;\n",
    "\n",
    "create view drugOccurency as (\n",
    "    select\n",
    "        druga,\n",
    "        sum(weight) count_occurency\n",
    "    from drugpair30mais\n",
    "    group by druga\n",
    ");\n",
    "\n",
    "create view confianca as (\n",
    "select\n",
    "    do.druga,\n",
    "    do.drugb,\n",
    "    do.weight::double / count_occurency as confianca\n",
    "from drugpair30mais as do\n",
    "left join\n",
    "    drugOccurency as d on d.druga = do.druga\n",
    ");\n",
    "\n",
    "select * from confianca order by confianca desc"
   ]
  },
  {
   "cell_type": "markdown",
   "metadata": {},
   "source": [
    "# Efeito Colateral\n",
    "\n",
    "Para cada medicamento, qual o percentual do medicamento A que tem efeito colateral junto com o medicamento B, quando comparado com seu uso sem o medicamento B."
   ]
  },
  {
   "cell_type": "code",
   "execution_count": 84,
   "metadata": {},
   "outputs": [
    {
     "data": {
      "application/vnd.jupyter.widget-view+json": {
       "model_id": "1a19123f-10c8-46c5-b427-5f49bd9f3ae1",
       "version_major": 2,
       "version_minor": 0
      },
      "method": "display_data"
     },
     "metadata": {},
     "output_type": "display_data"
    }
   ],
   "source": [
    "drop view if exists efeito_colateral_ratio;\n",
    "drop view if exists drugOccurency;\n",
    "\n",
    "create view drugOccurency as (\n",
    "    select\n",
    "        druga,\n",
    "        sum(weight) count_occurency\n",
    "    from DrugInteraction\n",
    "    group by druga\n",
    ");\n",
    "\n",
    "create view efeito_colateral_ratio as (\n",
    "select\n",
    "    do.druga,\n",
    "    do.drugb,\n",
    "    do.weight::double / count_occurency as efeito_colateral_ratio\n",
    "from DrugInteraction as do\n",
    "left join\n",
    "    drugOccurency as d on d.druga = do.druga\n",
    ");\n",
    "\n",
    "select * from efeito_colateral_ratio"
   ]
  }
 ],
 "metadata": {
  "kernelspec": {
   "display_name": "SQL",
   "language": "SQL",
   "name": "sql"
  },
  "language_info": {
   "codemirror_mode": "sql",
   "file_extension": ".sql",
   "mimetype": "",
   "name": "SQL",
   "nbconverter_exporter": "",
   "version": ""
  },
  "toc": {
   "base_numbering": 1,
   "nav_menu": {},
   "number_sections": false,
   "sideBar": false,
   "skip_h1_title": false,
   "title_cell": "Table of Contents",
   "title_sidebar": "Contents",
   "toc_cell": false,
   "toc_position": {},
   "toc_section_display": false,
   "toc_window_display": false
  }
 },
 "nbformat": 4,
 "nbformat_minor": 2
}
